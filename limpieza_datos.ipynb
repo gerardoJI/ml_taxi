{
 "cells": [
  {
   "cell_type": "markdown",
   "metadata": {},
   "source": [
    "# Proyecto ML Taxi. NB1: Limpieza de datos y creación de dataframe"
   ]
  },
  {
   "cell_type": "markdown",
   "metadata": {},
   "source": [
    "### En este notebook se describe el proceso de obtención de datos, limpieza y generación del dataframe final con el que se trabajarán los modelos de ML."
   ]
  },
  {
   "cell_type": "markdown",
   "metadata": {},
   "source": [
    "### Obtención del dataset"
   ]
  },
  {
   "cell_type": "code",
   "execution_count": 1,
   "metadata": {},
   "outputs": [
    {
     "name": "stderr",
     "output_type": "stream",
     "text": [
      "c:\\Users\\Gerardo\\anaconda33\\envs\\taxi_en\\Lib\\site-packages\\tqdm\\auto.py:21: TqdmWarning: IProgress not found. Please update jupyter and ipywidgets. See https://ipywidgets.readthedocs.io/en/stable/user_install.html\n",
      "  from .autonotebook import tqdm as notebook_tqdm\n"
     ]
    }
   ],
   "source": [
    "from datasets import load_dataset #\n",
    "df = load_dataset(\"Chendi/NYC_TAXI_FARE_CLEANED\")\n",
    "df=df[\"train\"].to_pandas()"
   ]
  },
  {
   "cell_type": "markdown",
   "metadata": {},
   "source": [
    "### Limpieza de datos y adeción de columnas para fecha y hora por separado"
   ]
  },
  {
   "cell_type": "code",
   "execution_count": 7,
   "metadata": {},
   "outputs": [
    {
     "name": "stdout",
     "output_type": "stream",
     "text": [
      "Se eliminaron 0 por valores nulos, es decir, el -99.0% de los datos.\n"
     ]
    }
   ],
   "source": [
    "from functions_limpieza import limpieza1\n",
    "df=limpieza1(df)"
   ]
  },
  {
   "cell_type": "markdown",
   "metadata": {},
   "source": [
    "### Reducción del dataframe a 1M de datos"
   ]
  },
  {
   "cell_type": "code",
   "execution_count": 22,
   "metadata": {},
   "outputs": [],
   "source": [
    "df_sample=df.sample(1000000) #Se toma una muestra de 1M de datos del data originial."
   ]
  },
  {
   "cell_type": "markdown",
   "metadata": {},
   "source": [
    "### Cálculo de la distancia entre los puntos de salida y llegada"
   ]
  },
  {
   "cell_type": "code",
   "execution_count": null,
   "metadata": {},
   "outputs": [
    {
     "data": {
      "text/html": [
       "<div>\n",
       "<style scoped>\n",
       "    .dataframe tbody tr th:only-of-type {\n",
       "        vertical-align: middle;\n",
       "    }\n",
       "\n",
       "    .dataframe tbody tr th {\n",
       "        vertical-align: top;\n",
       "    }\n",
       "\n",
       "    .dataframe thead th {\n",
       "        text-align: right;\n",
       "    }\n",
       "</style>\n",
       "<table border=\"1\" class=\"dataframe\">\n",
       "  <thead>\n",
       "    <tr style=\"text-align: right;\">\n",
       "      <th></th>\n",
       "      <th>fare_amount</th>\n",
       "      <th>pickup_datetime</th>\n",
       "      <th>pickup_longitude</th>\n",
       "      <th>pickup_latitude</th>\n",
       "      <th>dropoff_longitude</th>\n",
       "      <th>dropoff_latitude</th>\n",
       "      <th>passenger_count</th>\n",
       "      <th>hour</th>\n",
       "      <th>date</th>\n",
       "      <th>distance</th>\n",
       "    </tr>\n",
       "  </thead>\n",
       "  <tbody>\n",
       "    <tr>\n",
       "      <th>9760151</th>\n",
       "      <td>9.5</td>\n",
       "      <td>2014-08-06 04:45:10+00:00</td>\n",
       "      <td>-74.006439</td>\n",
       "      <td>40.743861</td>\n",
       "      <td>-73.978597</td>\n",
       "      <td>40.752373</td>\n",
       "      <td>1</td>\n",
       "      <td>4</td>\n",
       "      <td>2014-08-06</td>\n",
       "      <td>2.529182</td>\n",
       "    </tr>\n",
       "    <tr>\n",
       "      <th>43067936</th>\n",
       "      <td>5.7</td>\n",
       "      <td>2012-02-07 19:25:28+00:00</td>\n",
       "      <td>-73.961340</td>\n",
       "      <td>40.756958</td>\n",
       "      <td>-73.975255</td>\n",
       "      <td>40.753028</td>\n",
       "      <td>1</td>\n",
       "      <td>19</td>\n",
       "      <td>2012-02-07</td>\n",
       "      <td>1.250890</td>\n",
       "    </tr>\n",
       "    <tr>\n",
       "      <th>20990567</th>\n",
       "      <td>11.3</td>\n",
       "      <td>2009-02-28 17:21:00+00:00</td>\n",
       "      <td>-73.983705</td>\n",
       "      <td>40.676297</td>\n",
       "      <td>-74.001302</td>\n",
       "      <td>40.708610</td>\n",
       "      <td>1</td>\n",
       "      <td>17</td>\n",
       "      <td>2009-02-28</td>\n",
       "      <td>3.887292</td>\n",
       "    </tr>\n",
       "  </tbody>\n",
       "</table>\n",
       "</div>"
      ],
      "text/plain": [
       "          fare_amount           pickup_datetime  pickup_longitude  \\\n",
       "9760151           9.5 2014-08-06 04:45:10+00:00        -74.006439   \n",
       "43067936          5.7 2012-02-07 19:25:28+00:00        -73.961340   \n",
       "20990567         11.3 2009-02-28 17:21:00+00:00        -73.983705   \n",
       "\n",
       "          pickup_latitude  dropoff_longitude  dropoff_latitude  \\\n",
       "9760151         40.743861         -73.978597         40.752373   \n",
       "43067936        40.756958         -73.975255         40.753028   \n",
       "20990567        40.676297         -74.001302         40.708610   \n",
       "\n",
       "          passenger_count  hour        date  distance  \n",
       "9760151                 1     4  2014-08-06  2.529182  \n",
       "43067936                1    19  2012-02-07  1.250890  \n",
       "20990567                1    17  2009-02-28  3.887292  "
      ]
     },
     "execution_count": 25,
     "metadata": {},
     "output_type": "execute_result"
    }
   ],
   "source": [
    "from functions_limpieza import calcular_distancia\n",
    "df_final=calcular_distancia(df_sample,\"pickup_latitude\",\"pickup_longitude\",\"dropoff_latitude\",\"dropoff_longitude\")"
   ]
  },
  {
   "cell_type": "markdown",
   "metadata": {},
   "source": [
    "### Creación de datafreme final en archivo csv"
   ]
  },
  {
   "cell_type": "code",
   "execution_count": 26,
   "metadata": {},
   "outputs": [],
   "source": [
    "df_final.to_csv('df_final.csv', index=False, encoding='utf-8')"
   ]
  }
 ],
 "metadata": {
  "kernelspec": {
   "display_name": "taxi_en",
   "language": "python",
   "name": "python3"
  },
  "language_info": {
   "codemirror_mode": {
    "name": "ipython",
    "version": 3
   },
   "file_extension": ".py",
   "mimetype": "text/x-python",
   "name": "python",
   "nbconvert_exporter": "python",
   "pygments_lexer": "ipython3",
   "version": "3.13.1"
  }
 },
 "nbformat": 4,
 "nbformat_minor": 2
}
